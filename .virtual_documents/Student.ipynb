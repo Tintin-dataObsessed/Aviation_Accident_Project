














# Loading the nessesary libraries
import pandas as pd # To maniplutae the dataset
import numpy as np # for any statistics/averages
import matplotlib.pyplot as plt # visiaulaisation library
import seaborn as sns # more extensive visualisation library
%matplotlib inline


#load the datasets loaded
df1 = pd.read_csv('Data/AviationData.csv',encoding='ISO-8859-1')
df2 = pd.read_csv('Data/USState_Codes.csv',encoding='ISO-8859-1')


#This is to get a general overview of the datasets.
df1.head(5)


df2.head(5)


#Info is to understand the columns and their data types.
df1.info()


df2.info()


'''
This brief overview shows that they are 88889 rows of data in the Aviation dataset and they are 62 rows in,
inside the US city dataset.
Under head you have see a number of NaN values, I also note that,
all columns in the first data set are non-null while that of the second data set,
has object datat most likely inconsistent data types.
'''





# to change the data types 



