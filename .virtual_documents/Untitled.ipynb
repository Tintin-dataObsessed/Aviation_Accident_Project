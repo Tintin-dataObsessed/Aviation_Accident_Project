# Loading the nessesary libraries
import pandas as pd # To maniplutae the dataset
import numpy as np # for any statistics/averages
import matplotlib.pyplot as plt # visiaulaisation library
import seaborn as sns # more extensive visualisation library
%matplotlib inline


#load the datasets loaded
df1 = pd.read_csv('Data/AviationData.csv',encoding='ISO-8859-1')


df1.isna().sum()



